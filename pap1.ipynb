{
  "nbformat": 4,
  "nbformat_minor": 0,
  "metadata": {
    "colab": {
      "name": "pap1.ipynb",
      "version": "0.3.2",
      "provenance": [],
      "collapsed_sections": [],
      "include_colab_link": true
    },
    "kernelspec": {
      "name": "python3",
      "display_name": "Python 3"
    }
  },
  "cells": [
    {
      "cell_type": "markdown",
      "metadata": {
        "id": "view-in-github",
        "colab_type": "text"
      },
      "source": [
        "<a href=\"https://colab.research.google.com/github/Luckygsm/internship/blob/master/pap1.ipynb\" target=\"_parent\"><img src=\"https://colab.research.google.com/assets/colab-badge.svg\" alt=\"Open In Colab\"/></a>"
      ]
    },
    {
      "cell_type": "code",
      "metadata": {
        "id": "Oe78StD2DIFk",
        "colab_type": "code",
        "outputId": "5c16e498-8966-448d-b6e5-66f7f7b34062",
        "colab": {
          "base_uri": "https://localhost:8080/",
          "height": 34
        }
      },
      "source": [
        "x=2\n",
        "x*7"
      ],
      "execution_count": 0,
      "outputs": [
        {
          "output_type": "execute_result",
          "data": {
            "text/plain": [
              "14"
            ]
          },
          "metadata": {
            "tags": []
          },
          "execution_count": 1
        }
      ]
    },
    {
      "cell_type": "code",
      "metadata": {
        "id": "v5M2PLL0W-ii",
        "colab_type": "code",
        "outputId": "0337cc9e-b0cf-49fa-e5a6-1da4adf76007",
        "colab": {
          "base_uri": "https://localhost:8080/",
          "height": 34
        }
      },
      "source": [
        "x=\"Hello,I'm\"\n",
        "x+\"python\"\n"
      ],
      "execution_count": 0,
      "outputs": [
        {
          "output_type": "execute_result",
          "data": {
            "text/plain": [
              "\"Hello,I'mpython\""
            ]
          },
          "metadata": {
            "tags": []
          },
          "execution_count": 2
        }
      ]
    },
    {
      "cell_type": "code",
      "metadata": {
        "id": "8e-ZZ74XXPvi",
        "colab_type": "code",
        "outputId": "af82f908-92a9-44ee-d796-93c4b674c368",
        "colab": {
          "base_uri": "https://localhost:8080/",
          "height": 34
        }
      },
      "source": [
        "type(1)"
      ],
      "execution_count": 0,
      "outputs": [
        {
          "output_type": "execute_result",
          "data": {
            "text/plain": [
              "int"
            ]
          },
          "metadata": {
            "tags": []
          },
          "execution_count": 3
        }
      ]
    },
    {
      "cell_type": "code",
      "metadata": {
        "id": "QcJb-bGGYky7",
        "colab_type": "code",
        "outputId": "f641fa41-bea1-4b93-8ea9-06f0d2a5c8af",
        "colab": {
          "base_uri": "https://localhost:8080/",
          "height": 34
        }
      },
      "source": [
        "type(int)"
      ],
      "execution_count": 0,
      "outputs": [
        {
          "output_type": "execute_result",
          "data": {
            "text/plain": [
              "type"
            ]
          },
          "metadata": {
            "tags": []
          },
          "execution_count": 4
        }
      ]
    },
    {
      "cell_type": "code",
      "metadata": {
        "id": "gggFjv0UYnEe",
        "colab_type": "code",
        "outputId": "d792be37-7fbc-40a5-e68d-385119283ddc",
        "colab": {
          "base_uri": "https://localhost:8080/",
          "height": 34
        }
      },
      "source": [
        "3"
      ],
      "execution_count": 0,
      "outputs": [
        {
          "output_type": "execute_result",
          "data": {
            "text/plain": [
              "3"
            ]
          },
          "metadata": {
            "tags": []
          },
          "execution_count": 5
        }
      ]
    },
    {
      "cell_type": "code",
      "metadata": {
        "id": "4pFDNx9lYof3",
        "colab_type": "code",
        "outputId": "203ba9bc-6e34-4123-95f3-25120654dc26",
        "colab": {
          "base_uri": "https://localhost:8080/",
          "height": 34
        }
      },
      "source": [
        "3.0"
      ],
      "execution_count": 0,
      "outputs": [
        {
          "output_type": "execute_result",
          "data": {
            "text/plain": [
              "3.0"
            ]
          },
          "metadata": {
            "tags": []
          },
          "execution_count": 6
        }
      ]
    },
    {
      "cell_type": "code",
      "metadata": {
        "id": "vcuvwJDgYqBp",
        "colab_type": "code",
        "outputId": "b7dd39b6-a8f2-49b5-ae7e-d057436514c0",
        "colab": {
          "base_uri": "https://localhost:8080/",
          "height": 34
        }
      },
      "source": [
        "1+1"
      ],
      "execution_count": 0,
      "outputs": [
        {
          "output_type": "execute_result",
          "data": {
            "text/plain": [
              "2"
            ]
          },
          "metadata": {
            "tags": []
          },
          "execution_count": 7
        }
      ]
    },
    {
      "cell_type": "code",
      "metadata": {
        "id": "b5kKCsFgYsLg",
        "colab_type": "code",
        "outputId": "fb52164f-d33a-4519-9586-7adeb5417c35",
        "colab": {
          "base_uri": "https://localhost:8080/",
          "height": 34
        }
      },
      "source": [
        "8-1"
      ],
      "execution_count": 0,
      "outputs": [
        {
          "output_type": "execute_result",
          "data": {
            "text/plain": [
              "7"
            ]
          },
          "metadata": {
            "tags": []
          },
          "execution_count": 8
        }
      ]
    },
    {
      "cell_type": "code",
      "metadata": {
        "id": "cTbRjDlHYtpT",
        "colab_type": "code",
        "outputId": "e67dccf9-ac68-4a7b-cbd7-f27b670b55bd",
        "colab": {
          "base_uri": "https://localhost:8080/",
          "height": 34
        }
      },
      "source": [
        "10*2"
      ],
      "execution_count": 0,
      "outputs": [
        {
          "output_type": "execute_result",
          "data": {
            "text/plain": [
              "20"
            ]
          },
          "metadata": {
            "tags": []
          },
          "execution_count": 9
        }
      ]
    },
    {
      "cell_type": "code",
      "metadata": {
        "id": "JSQ1p8FBYx_D",
        "colab_type": "code",
        "outputId": "c251f2d4-2dae-468f-bcde-c7290fd99476",
        "colab": {
          "base_uri": "https://localhost:8080/",
          "height": 34
        }
      },
      "source": [
        "2*3==5"
      ],
      "execution_count": 0,
      "outputs": [
        {
          "output_type": "execute_result",
          "data": {
            "text/plain": [
              "False"
            ]
          },
          "metadata": {
            "tags": []
          },
          "execution_count": 10
        }
      ]
    },
    {
      "cell_type": "code",
      "metadata": {
        "id": "pfTyK3sjY1Ko",
        "colab_type": "code",
        "outputId": "470fb550-9ea4-415e-b7a6-bf721d21666f",
        "colab": {
          "base_uri": "https://localhost:8080/",
          "height": 34
        }
      },
      "source": [
        "1<10"
      ],
      "execution_count": 0,
      "outputs": [
        {
          "output_type": "execute_result",
          "data": {
            "text/plain": [
              "True"
            ]
          },
          "metadata": {
            "tags": []
          },
          "execution_count": 11
        }
      ]
    },
    {
      "cell_type": "code",
      "metadata": {
        "id": "BPq2e5hIeQgy",
        "colab_type": "code",
        "colab": {
          "base_uri": "https://localhost:8080/",
          "height": 178
        },
        "outputId": "2bde5ae5-fabc-437a-eb86-68467e133e18"
      },
      "source": [
        "if the_world_is_flat:\n",
        "      print(\"Don't fall off\")"
      ],
      "execution_count": 71,
      "outputs": [
        {
          "output_type": "error",
          "ename": "NameError",
          "evalue": "ignored",
          "traceback": [
            "\u001b[0;31m---------------------------------------------------------------------------\u001b[0m",
            "\u001b[0;31mNameError\u001b[0m                                 Traceback (most recent call last)",
            "\u001b[0;32m<ipython-input-71-632e5b4394c1>\u001b[0m in \u001b[0;36m<module>\u001b[0;34m()\u001b[0m\n\u001b[0;32m----> 1\u001b[0;31m \u001b[0;32mif\u001b[0m \u001b[0mthe_world_is_flat\u001b[0m\u001b[0;34m:\u001b[0m\u001b[0;34m\u001b[0m\u001b[0;34m\u001b[0m\u001b[0m\n\u001b[0m\u001b[1;32m      2\u001b[0m       \u001b[0mprint\u001b[0m\u001b[0;34m(\u001b[0m\u001b[0;34m\"Don't fall off\"\u001b[0m\u001b[0;34m)\u001b[0m\u001b[0;34m\u001b[0m\u001b[0;34m\u001b[0m\u001b[0m\n",
            "\u001b[0;31mNameError\u001b[0m: name 'the_world_is_flat' is not defined"
          ]
        }
      ]
    },
    {
      "cell_type": "markdown",
      "metadata": {
        "id": "d9kBd6egyRd5",
        "colab_type": "text"
      },
      "source": [
        ""
      ]
    },
    {
      "cell_type": "code",
      "metadata": {
        "id": "GfIloiatis3Q",
        "colab_type": "code",
        "colab": {}
      },
      "source": [
        ""
      ],
      "execution_count": 0,
      "outputs": []
    },
    {
      "cell_type": "code",
      "metadata": {
        "id": "Lu8YVG4oeqUn",
        "colab_type": "code",
        "colab": {
          "base_uri": "https://localhost:8080/",
          "height": 34
        },
        "outputId": "eb78d47a-4039-4f7e-de34-12ff31f9f74a"
      },
      "source": [
        "bool(None)\n",
        "bool(False)\n",
        "bool(0)\n",
        "bool(0.0)\n",
        "bool('')"
      ],
      "execution_count": 13,
      "outputs": [
        {
          "output_type": "execute_result",
          "data": {
            "text/plain": [
              "False"
            ]
          },
          "metadata": {
            "tags": []
          },
          "execution_count": 13
        }
      ]
    },
    {
      "cell_type": "code",
      "metadata": {
        "id": "iwiY7_uGiubW",
        "colab_type": "code",
        "colab": {}
      },
      "source": [
        ""
      ],
      "execution_count": 0,
      "outputs": []
    },
    {
      "cell_type": "code",
      "metadata": {
        "id": "7V2w6rRbhpsN",
        "colab_type": "code",
        "colab": {}
      },
      "source": [
        "for item in iterable:"
      ],
      "execution_count": 0,
      "outputs": []
    },
    {
      "cell_type": "code",
      "metadata": {
        "id": "2DvgxOtkjmmY",
        "colab_type": "code",
        "colab": {
          "base_uri": "https://localhost:8080/",
          "height": 34
        },
        "outputId": "be37c3e9-62ff-453f-d921-1224ff51eee4"
      },
      "source": [
        "range(3)"
      ],
      "execution_count": 15,
      "outputs": [
        {
          "output_type": "execute_result",
          "data": {
            "text/plain": [
              "range(0, 3)"
            ]
          },
          "metadata": {
            "tags": []
          },
          "execution_count": 15
        }
      ]
    },
    {
      "cell_type": "code",
      "metadata": {
        "id": "35GDc9Pvj01M",
        "colab_type": "code",
        "colab": {
          "base_uri": "https://localhost:8080/",
          "height": 34
        },
        "outputId": "864b69c9-7e6b-42e4-f25c-4e9b1d4fbfe4"
      },
      "source": [
        "range(5,10)"
      ],
      "execution_count": 16,
      "outputs": [
        {
          "output_type": "execute_result",
          "data": {
            "text/plain": [
              "range(5, 10)"
            ]
          },
          "metadata": {
            "tags": []
          },
          "execution_count": 16
        }
      ]
    },
    {
      "cell_type": "code",
      "metadata": {
        "id": "DhKQ9MFJkQhx",
        "colab_type": "code",
        "colab": {
          "base_uri": "https://localhost:8080/",
          "height": 212
        },
        "outputId": "9ae30cc5-5cb3-445c-c281-a6e2446b5788"
      },
      "source": [
        "i=\"lavanya\"\n",
        "for i in range:\n",
        "  print(i)\n",
        "  "
      ],
      "execution_count": 19,
      "outputs": [
        {
          "output_type": "error",
          "ename": "TypeError",
          "evalue": "ignored",
          "traceback": [
            "\u001b[0;31m---------------------------------------------------------------------------\u001b[0m",
            "\u001b[0;31mTypeError\u001b[0m                                 Traceback (most recent call last)",
            "\u001b[0;32m<ipython-input-19-b3bf514bb618>\u001b[0m in \u001b[0;36m<module>\u001b[0;34m()\u001b[0m\n\u001b[1;32m      1\u001b[0m \u001b[0mi\u001b[0m\u001b[0;34m=\u001b[0m\u001b[0;34m\"lavanya\"\u001b[0m\u001b[0;34m\u001b[0m\u001b[0;34m\u001b[0m\u001b[0m\n\u001b[0;32m----> 2\u001b[0;31m \u001b[0;32mfor\u001b[0m \u001b[0mi\u001b[0m \u001b[0;32min\u001b[0m \u001b[0mrange\u001b[0m\u001b[0;34m:\u001b[0m\u001b[0;34m\u001b[0m\u001b[0;34m\u001b[0m\u001b[0m\n\u001b[0m\u001b[1;32m      3\u001b[0m   \u001b[0mprint\u001b[0m\u001b[0;34m(\u001b[0m\u001b[0mi\u001b[0m\u001b[0;34m)\u001b[0m\u001b[0;34m\u001b[0m\u001b[0;34m\u001b[0m\u001b[0m\n\u001b[1;32m      4\u001b[0m \u001b[0;34m\u001b[0m\u001b[0m\n",
            "\u001b[0;31mTypeError\u001b[0m: 'type' object is not iterable"
          ]
        }
      ]
    },
    {
      "cell_type": "code",
      "metadata": {
        "id": "H7s6zqsFl_17",
        "colab_type": "code",
        "colab": {}
      },
      "source": [
        "for n in range(10):\n",
        "  if n==6:\n",
        "    break\n",
        "    print(n, end=',')"
      ],
      "execution_count": 0,
      "outputs": []
    },
    {
      "cell_type": "code",
      "metadata": {
        "id": "d0-Z5iOzmZ5-",
        "colab_type": "code",
        "colab": {}
      },
      "source": [
        "for n in range(10):\n",
        "  if  n == 6:\n",
        "    break\n",
        "    print(n, end=',')"
      ],
      "execution_count": 0,
      "outputs": []
    },
    {
      "cell_type": "code",
      "metadata": {
        "id": "R0fbFFz4nFan",
        "colab_type": "code",
        "colab": {
          "base_uri": "https://localhost:8080/",
          "height": 34
        },
        "outputId": "8c3dbfd2-0e27-4900-b949-1ff2db49a998"
      },
      "source": [
        "for n in range(10):\n",
        "    if n == 6:\n",
        "       break\n",
        "    print(n, end=',')   "
      ],
      "execution_count": 28,
      "outputs": [
        {
          "output_type": "stream",
          "text": [
            "0,1,2,3,4,5,"
          ],
          "name": "stdout"
        }
      ]
    },
    {
      "cell_type": "code",
      "metadata": {
        "id": "XhruDbB7pT5Q",
        "colab_type": "code",
        "colab": {
          "base_uri": "https://localhost:8080/",
          "height": 185
        },
        "outputId": "06f80fd5-9fde-4e8e-b42d-b5e7f6d9fb20"
      },
      "source": [
        "for n in range(10):\n",
        "    if n % 2 ==0:\n",
        "         print(\"Even\", n)\n",
        "         continue\n",
        "    print(\"Odd\", n)  "
      ],
      "execution_count": 31,
      "outputs": [
        {
          "output_type": "stream",
          "text": [
            "Even 0\n",
            "Odd 1\n",
            "Even 2\n",
            "Odd 3\n",
            "Even 4\n",
            "Odd 5\n",
            "Even 6\n",
            "Odd 7\n",
            "Even 8\n",
            "Odd 9\n"
          ],
          "name": "stdout"
        }
      ]
    },
    {
      "cell_type": "code",
      "metadata": {
        "id": "0Yo8wXJppz6C",
        "colab_type": "code",
        "colab": {}
      },
      "source": [
        "def fn_name(param1, parnam2):\n",
        "    value = do_something()\n",
        "    return value"
      ],
      "execution_count": 0,
      "outputs": []
    },
    {
      "cell_type": "code",
      "metadata": {
        "id": "Tp4zwX3Pqca0",
        "colab_type": "code",
        "colab": {}
      },
      "source": [
        "def is_prime(n):\n",
        "    for i in range(2,n):\n",
        "        if n % i == 0:\n",
        "            return  False\n",
        "    return  True      "
      ],
      "execution_count": 0,
      "outputs": []
    },
    {
      "cell_type": "code",
      "metadata": {
        "id": "JYB2t3n4rC2N",
        "colab_type": "code",
        "colab": {}
      },
      "source": [
        "def is_prime(n):\n",
        "   for i in range(2,n):\n",
        "        if  n % i == 0:\n",
        "          return false\n",
        "        return true    "
      ],
      "execution_count": 0,
      "outputs": []
    },
    {
      "cell_type": "code",
      "metadata": {
        "id": "YEPDOUmmrxua",
        "colab_type": "code",
        "colab": {
          "base_uri": "https://localhost:8080/",
          "height": 101
        },
        "outputId": "8a20572c-d67f-466e-d936-5b06f8bf39e3"
      },
      "source": [
        "n=input(\"enter a number:\")\n",
        "for x in range(2,int(n)):\n",
        "  if is_prime(x):\n",
        "     print(x,\"is prime\")\n",
        "  else:\n",
        "     print(x,\"is not prime\")"
      ],
      "execution_count": 41,
      "outputs": [
        {
          "output_type": "stream",
          "text": [
            "enter a number:6\n",
            "2 is prime\n",
            "3 is prime\n",
            "4 is not prime\n",
            "5 is prime\n"
          ],
          "name": "stdout"
        }
      ]
    },
    {
      "cell_type": "markdown",
      "metadata": {
        "id": "LXkO5OGtynGK",
        "colab_type": "text"
      },
      "source": [
        "MULTIPLES OF 8 IN THE RANGE OF 500"
      ]
    },
    {
      "cell_type": "code",
      "metadata": {
        "id": "jRmcQ1ycyfb4",
        "colab_type": "code",
        "colab": {
          "base_uri": "https://localhost:8080/",
          "height": 1000
        },
        "outputId": "e4e5056a-ea6d-4daf-f38a-849e64ed860b"
      },
      "source": [
        "multiples_8 = [n for n in range(1,500) if n % 8 == 0]\n",
        "multiples_8\n",
        "  \n"
      ],
      "execution_count": 74,
      "outputs": [
        {
          "output_type": "execute_result",
          "data": {
            "text/plain": [
              "[8,\n",
              " 16,\n",
              " 24,\n",
              " 32,\n",
              " 40,\n",
              " 48,\n",
              " 56,\n",
              " 64,\n",
              " 72,\n",
              " 80,\n",
              " 88,\n",
              " 96,\n",
              " 104,\n",
              " 112,\n",
              " 120,\n",
              " 128,\n",
              " 136,\n",
              " 144,\n",
              " 152,\n",
              " 160,\n",
              " 168,\n",
              " 176,\n",
              " 184,\n",
              " 192,\n",
              " 200,\n",
              " 208,\n",
              " 216,\n",
              " 224,\n",
              " 232,\n",
              " 240,\n",
              " 248,\n",
              " 256,\n",
              " 264,\n",
              " 272,\n",
              " 280,\n",
              " 288,\n",
              " 296,\n",
              " 304,\n",
              " 312,\n",
              " 320,\n",
              " 328,\n",
              " 336,\n",
              " 344,\n",
              " 352,\n",
              " 360,\n",
              " 368,\n",
              " 376,\n",
              " 384,\n",
              " 392,\n",
              " 400,\n",
              " 408,\n",
              " 416,\n",
              " 424,\n",
              " 432,\n",
              " 440,\n",
              " 448,\n",
              " 456,\n",
              " 464,\n",
              " 472,\n",
              " 480,\n",
              " 488,\n",
              " 496]"
            ]
          },
          "metadata": {
            "tags": []
          },
          "execution_count": 74
        }
      ]
    },
    {
      "cell_type": "markdown",
      "metadata": {
        "id": "TYrchoAq1l4a",
        "colab_type": "text"
      },
      "source": [
        "SORTING"
      ]
    },
    {
      "cell_type": "code",
      "metadata": {
        "id": "ki0x8fj6vWJq",
        "colab_type": "code",
        "colab": {
          "base_uri": "https://localhost:8080/",
          "height": 34
        },
        "outputId": "d33144d3-7036-4236-fce0-ae73d474b874"
      },
      "source": [
        "x = [2, 8, 1, 4, 6, 3, 7]\n",
        "x.sort()\n",
        "print(x)"
      ],
      "execution_count": 91,
      "outputs": [
        {
          "output_type": "stream",
          "text": [
            "[1, 2, 3, 4, 6, 7, 8]\n"
          ],
          "name": "stdout"
        }
      ]
    },
    {
      "cell_type": "code",
      "metadata": {
        "id": "a6uhL2Af376B",
        "colab_type": "code",
        "colab": {
          "base_uri": "https://localhost:8080/",
          "height": 34
        },
        "outputId": "56279368-a306-4fa1-a0e4-0af5e0045097"
      },
      "source": [
        "x = [2, 8, 1, 4, 6, 3, 7]\n",
        "x.sort(reverse=True)\n",
        "print(x)"
      ],
      "execution_count": 92,
      "outputs": [
        {
          "output_type": "stream",
          "text": [
            "[8, 7, 6, 4, 3, 2, 1]\n"
          ],
          "name": "stdout"
        }
      ]
    },
    {
      "cell_type": "code",
      "metadata": {
        "id": "LRpwCIU53Wie",
        "colab_type": "code",
        "colab": {}
      },
      "source": [
        ""
      ],
      "execution_count": 0,
      "outputs": []
    },
    {
      "cell_type": "markdown",
      "metadata": {
        "id": "xStNKV4x3Zmu",
        "colab_type": "text"
      },
      "source": [
        "STRING MATCH"
      ]
    },
    {
      "cell_type": "code",
      "metadata": {
        "id": "ICusNwkH3cX1",
        "colab_type": "code",
        "colab": {
          "base_uri": "https://localhost:8080/",
          "height": 34
        },
        "outputId": "ade4a587-48ff-49c7-e2e5-2be9bc83d41b"
      },
      "source": [
        "s=\"today is good\"\n",
        "'good'in s"
      ],
      "execution_count": 83,
      "outputs": [
        {
          "output_type": "execute_result",
          "data": {
            "text/plain": [
              "True"
            ]
          },
          "metadata": {
            "tags": []
          },
          "execution_count": 83
        }
      ]
    },
    {
      "cell_type": "code",
      "metadata": {
        "id": "gTm-Cwzh3rO3",
        "colab_type": "code",
        "colab": {
          "base_uri": "https://localhost:8080/",
          "height": 34
        },
        "outputId": "1c94c636-9196-467d-cfa1-178e92428e61"
      },
      "source": [
        "s=\"today is good\"\n",
        "'mon'in s"
      ],
      "execution_count": 84,
      "outputs": [
        {
          "output_type": "execute_result",
          "data": {
            "text/plain": [
              "False"
            ]
          },
          "metadata": {
            "tags": []
          },
          "execution_count": 84
        }
      ]
    },
    {
      "cell_type": "code",
      "metadata": {
        "id": "yg3d71rf5Dea",
        "colab_type": "code",
        "colab": {
          "base_uri": "https://localhost:8080/",
          "height": 118
        },
        "outputId": "6ac871ed-61d9-45fa-cf33-b56fb6acbd42"
      },
      "source": [
        "friends=['mon','chan','rach','ross','pheobe','joey']\n",
        "for i in friends:\n",
        "  print(i)"
      ],
      "execution_count": 95,
      "outputs": [
        {
          "output_type": "stream",
          "text": [
            "mon\n",
            "chan\n",
            "rach\n",
            "ross\n",
            "pheobe\n",
            "joey\n"
          ],
          "name": "stdout"
        }
      ]
    },
    {
      "cell_type": "code",
      "metadata": {
        "id": "T39BV7U88FUf",
        "colab_type": "code",
        "colab": {
          "base_uri": "https://localhost:8080/",
          "height": 34
        },
        "outputId": "4bc5119d-653c-453a-da58-2bd6a90e6163"
      },
      "source": [
        "import math\n",
        "math.sqrt(16)"
      ],
      "execution_count": 96,
      "outputs": [
        {
          "output_type": "execute_result",
          "data": {
            "text/plain": [
              "4.0"
            ]
          },
          "metadata": {
            "tags": []
          },
          "execution_count": 96
        }
      ]
    },
    {
      "cell_type": "code",
      "metadata": {
        "id": "ENgiBvHI8O6c",
        "colab_type": "code",
        "colab": {
          "base_uri": "https://localhost:8080/",
          "height": 34
        },
        "outputId": "f56e8875-aa12-44e9-f1a5-83d3d36a8f13"
      },
      "source": [
        "from math import ceil,floor\n",
        "ceil(3.7)"
      ],
      "execution_count": 97,
      "outputs": [
        {
          "output_type": "execute_result",
          "data": {
            "text/plain": [
              "4"
            ]
          },
          "metadata": {
            "tags": []
          },
          "execution_count": 97
        }
      ]
    },
    {
      "cell_type": "code",
      "metadata": {
        "id": "-c_JNiC_8cUV",
        "colab_type": "code",
        "colab": {
          "base_uri": "https://localhost:8080/",
          "height": 34
        },
        "outputId": "14050ab1-3a10-4e19-845c-15844d634a03"
      },
      "source": [
        "floor(3.7)"
      ],
      "execution_count": 98,
      "outputs": [
        {
          "output_type": "execute_result",
          "data": {
            "text/plain": [
              "3"
            ]
          },
          "metadata": {
            "tags": []
          },
          "execution_count": 98
        }
      ]
    },
    {
      "cell_type": "code",
      "metadata": {
        "id": "dFVIHmke8isZ",
        "colab_type": "code",
        "colab": {}
      },
      "source": [
        ""
      ],
      "execution_count": 0,
      "outputs": []
    }
  ]
}