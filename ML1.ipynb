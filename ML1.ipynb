{
  "nbformat": 4,
  "nbformat_minor": 0,
  "metadata": {
    "colab": {
      "name": "ML1.ipynb",
      "version": "0.3.2",
      "provenance": [],
      "collapsed_sections": [],
      "include_colab_link": true
    },
    "kernelspec": {
      "name": "python3",
      "display_name": "Python 3"
    }
  },
  "cells": [
    {
      "cell_type": "markdown",
      "metadata": {
        "id": "view-in-github",
        "colab_type": "text"
      },
      "source": [
        "<a href=\"https://colab.research.google.com/github/Luckygsm/internship/blob/master/ML1.ipynb\" target=\"_parent\"><img src=\"https://colab.research.google.com/assets/colab-badge.svg\" alt=\"Open In Colab\"/></a>"
      ]
    },
    {
      "cell_type": "code",
      "metadata": {
        "id": "r3j7jQdbMAXs",
        "colab_type": "code",
        "outputId": "9138e6c0-6f24-42eb-be09-1cd15a75214d",
        "colab": {
          "base_uri": "https://localhost:8080/",
          "height": 184
        }
      },
      "source": [
        "import numpy as np\n",
        "from sklearn.preprocessing import MinMaxScaler\n",
        "demoData = np.random.randint(10, 100, (10 ,2))\n",
        "demoData"
      ],
      "execution_count": 0,
      "outputs": [
        {
          "output_type": "execute_result",
          "data": {
            "text/plain": [
              "array([[93, 88],\n",
              "       [39, 67],\n",
              "       [24, 32],\n",
              "       [28, 98],\n",
              "       [72, 80],\n",
              "       [48, 33],\n",
              "       [75, 23],\n",
              "       [53, 41],\n",
              "       [81, 24],\n",
              "       [20, 94]])"
            ]
          },
          "metadata": {
            "tags": []
          },
          "execution_count": 1
        }
      ]
    },
    {
      "cell_type": "code",
      "metadata": {
        "id": "sXuRA2GKrr2C",
        "colab_type": "code",
        "outputId": "ecf35fc0-96c9-4f67-9d8b-4b098a614fbd",
        "colab": {
          "base_uri": "https://localhost:8080/",
          "height": 351
        }
      },
      "source": [
        "import numpy as np\n",
        "from sklearn.preprocessing import MinMaxScaler\n",
        "demoData=np.random.randint(1,500,(20,4))\n",
        "demoData"
      ],
      "execution_count": 0,
      "outputs": [
        {
          "output_type": "execute_result",
          "data": {
            "text/plain": [
              "array([[257, 137, 161, 380],\n",
              "       [ 93, 498,  19, 370],\n",
              "       [420, 157, 342, 363],\n",
              "       [322, 345, 112, 155],\n",
              "       [354, 225, 322, 429],\n",
              "       [ 47, 244,  55,  90],\n",
              "       [310,  46,  85, 398],\n",
              "       [ 22, 163,  82, 387],\n",
              "       [418, 160, 345, 457],\n",
              "       [357, 430,  85, 254],\n",
              "       [225,  77, 290,  70],\n",
              "       [125, 419,  77, 459],\n",
              "       [430, 233, 114, 305],\n",
              "       [312, 265, 352,  89],\n",
              "       [163, 350, 455, 301],\n",
              "       [454,  41,  92, 195],\n",
              "       [455, 210, 228, 324],\n",
              "       [ 98, 478, 438,  26],\n",
              "       [481, 315, 279, 154],\n",
              "       [438, 161, 226, 372]])"
            ]
          },
          "metadata": {
            "tags": []
          },
          "execution_count": 15
        }
      ]
    },
    {
      "cell_type": "code",
      "metadata": {
        "id": "jrwVYfHGtgun",
        "colab_type": "code",
        "outputId": "c1a348f4-6b7f-4070-a678-02a4a11197be",
        "colab": {
          "base_uri": "https://localhost:8080/",
          "height": 351
        }
      },
      "source": [
        "scalar_model = MinMaxScaler()\n",
        "feature_data = scalar_model.fit_transform(demoData)\n",
        "feature_data"
      ],
      "execution_count": 0,
      "outputs": [
        {
          "output_type": "execute_result",
          "data": {
            "text/plain": [
              "array([[0.51198257, 0.21006565, 0.32568807, 0.81755196],\n",
              "       [0.1546841 , 1.        , 0.        , 0.79445727],\n",
              "       [0.8671024 , 0.25382932, 0.74082569, 0.77829099],\n",
              "       [0.65359477, 0.66520788, 0.21330275, 0.29792148],\n",
              "       [0.72331155, 0.40262582, 0.69495413, 0.93071594],\n",
              "       [0.05446623, 0.44420131, 0.08256881, 0.147806  ],\n",
              "       [0.62745098, 0.01094092, 0.15137615, 0.8591224 ],\n",
              "       [0.        , 0.26695842, 0.14449541, 0.83371824],\n",
              "       [0.8627451 , 0.26039387, 0.74770642, 0.99538106],\n",
              "       [0.72984749, 0.8512035 , 0.15137615, 0.52655889],\n",
              "       [0.4422658 , 0.07877462, 0.62155963, 0.10161663],\n",
              "       [0.22440087, 0.82713348, 0.13302752, 1.        ],\n",
              "       [0.88888889, 0.42013129, 0.21788991, 0.6443418 ],\n",
              "       [0.63180828, 0.49015317, 0.76376147, 0.14549654],\n",
              "       [0.30718954, 0.6761488 , 1.        , 0.63510393],\n",
              "       [0.94117647, 0.        , 0.16743119, 0.39030023],\n",
              "       [0.94335512, 0.36980306, 0.4793578 , 0.68822171],\n",
              "       [0.16557734, 0.95623632, 0.96100917, 0.        ],\n",
              "       [1.        , 0.59956236, 0.59633028, 0.29561201],\n",
              "       [0.90631808, 0.26258206, 0.47477064, 0.79907621]])"
            ]
          },
          "metadata": {
            "tags": []
          },
          "execution_count": 17
        }
      ]
    },
    {
      "cell_type": "code",
      "metadata": {
        "id": "hVdmRF1wtvLH",
        "colab_type": "code",
        "outputId": "2c73d3ab-a7d1-4708-912a-28286dacf1da",
        "colab": {
          "base_uri": "https://localhost:8080/",
          "height": 644
        }
      },
      "source": [
        "import pandas as pd\n",
        "df = pd.DataFrame(data=feature_data, columns=['k1', 'k2', 'k3', 'labels'])\n",
        "df\n"
      ],
      "execution_count": 0,
      "outputs": [
        {
          "output_type": "execute_result",
          "data": {
            "text/html": [
              "<div>\n",
              "<style scoped>\n",
              "    .dataframe tbody tr th:only-of-type {\n",
              "        vertical-align: middle;\n",
              "    }\n",
              "\n",
              "    .dataframe tbody tr th {\n",
              "        vertical-align: top;\n",
              "    }\n",
              "\n",
              "    .dataframe thead th {\n",
              "        text-align: right;\n",
              "    }\n",
              "</style>\n",
              "<table border=\"1\" class=\"dataframe\">\n",
              "  <thead>\n",
              "    <tr style=\"text-align: right;\">\n",
              "      <th></th>\n",
              "      <th>k1</th>\n",
              "      <th>k2</th>\n",
              "      <th>k3</th>\n",
              "      <th>labels</th>\n",
              "    </tr>\n",
              "  </thead>\n",
              "  <tbody>\n",
              "    <tr>\n",
              "      <th>0</th>\n",
              "      <td>0.511983</td>\n",
              "      <td>0.210066</td>\n",
              "      <td>0.325688</td>\n",
              "      <td>0.817552</td>\n",
              "    </tr>\n",
              "    <tr>\n",
              "      <th>1</th>\n",
              "      <td>0.154684</td>\n",
              "      <td>1.000000</td>\n",
              "      <td>0.000000</td>\n",
              "      <td>0.794457</td>\n",
              "    </tr>\n",
              "    <tr>\n",
              "      <th>2</th>\n",
              "      <td>0.867102</td>\n",
              "      <td>0.253829</td>\n",
              "      <td>0.740826</td>\n",
              "      <td>0.778291</td>\n",
              "    </tr>\n",
              "    <tr>\n",
              "      <th>3</th>\n",
              "      <td>0.653595</td>\n",
              "      <td>0.665208</td>\n",
              "      <td>0.213303</td>\n",
              "      <td>0.297921</td>\n",
              "    </tr>\n",
              "    <tr>\n",
              "      <th>4</th>\n",
              "      <td>0.723312</td>\n",
              "      <td>0.402626</td>\n",
              "      <td>0.694954</td>\n",
              "      <td>0.930716</td>\n",
              "    </tr>\n",
              "    <tr>\n",
              "      <th>5</th>\n",
              "      <td>0.054466</td>\n",
              "      <td>0.444201</td>\n",
              "      <td>0.082569</td>\n",
              "      <td>0.147806</td>\n",
              "    </tr>\n",
              "    <tr>\n",
              "      <th>6</th>\n",
              "      <td>0.627451</td>\n",
              "      <td>0.010941</td>\n",
              "      <td>0.151376</td>\n",
              "      <td>0.859122</td>\n",
              "    </tr>\n",
              "    <tr>\n",
              "      <th>7</th>\n",
              "      <td>0.000000</td>\n",
              "      <td>0.266958</td>\n",
              "      <td>0.144495</td>\n",
              "      <td>0.833718</td>\n",
              "    </tr>\n",
              "    <tr>\n",
              "      <th>8</th>\n",
              "      <td>0.862745</td>\n",
              "      <td>0.260394</td>\n",
              "      <td>0.747706</td>\n",
              "      <td>0.995381</td>\n",
              "    </tr>\n",
              "    <tr>\n",
              "      <th>9</th>\n",
              "      <td>0.729847</td>\n",
              "      <td>0.851204</td>\n",
              "      <td>0.151376</td>\n",
              "      <td>0.526559</td>\n",
              "    </tr>\n",
              "    <tr>\n",
              "      <th>10</th>\n",
              "      <td>0.442266</td>\n",
              "      <td>0.078775</td>\n",
              "      <td>0.621560</td>\n",
              "      <td>0.101617</td>\n",
              "    </tr>\n",
              "    <tr>\n",
              "      <th>11</th>\n",
              "      <td>0.224401</td>\n",
              "      <td>0.827133</td>\n",
              "      <td>0.133028</td>\n",
              "      <td>1.000000</td>\n",
              "    </tr>\n",
              "    <tr>\n",
              "      <th>12</th>\n",
              "      <td>0.888889</td>\n",
              "      <td>0.420131</td>\n",
              "      <td>0.217890</td>\n",
              "      <td>0.644342</td>\n",
              "    </tr>\n",
              "    <tr>\n",
              "      <th>13</th>\n",
              "      <td>0.631808</td>\n",
              "      <td>0.490153</td>\n",
              "      <td>0.763761</td>\n",
              "      <td>0.145497</td>\n",
              "    </tr>\n",
              "    <tr>\n",
              "      <th>14</th>\n",
              "      <td>0.307190</td>\n",
              "      <td>0.676149</td>\n",
              "      <td>1.000000</td>\n",
              "      <td>0.635104</td>\n",
              "    </tr>\n",
              "    <tr>\n",
              "      <th>15</th>\n",
              "      <td>0.941176</td>\n",
              "      <td>0.000000</td>\n",
              "      <td>0.167431</td>\n",
              "      <td>0.390300</td>\n",
              "    </tr>\n",
              "    <tr>\n",
              "      <th>16</th>\n",
              "      <td>0.943355</td>\n",
              "      <td>0.369803</td>\n",
              "      <td>0.479358</td>\n",
              "      <td>0.688222</td>\n",
              "    </tr>\n",
              "    <tr>\n",
              "      <th>17</th>\n",
              "      <td>0.165577</td>\n",
              "      <td>0.956236</td>\n",
              "      <td>0.961009</td>\n",
              "      <td>0.000000</td>\n",
              "    </tr>\n",
              "    <tr>\n",
              "      <th>18</th>\n",
              "      <td>1.000000</td>\n",
              "      <td>0.599562</td>\n",
              "      <td>0.596330</td>\n",
              "      <td>0.295612</td>\n",
              "    </tr>\n",
              "    <tr>\n",
              "      <th>19</th>\n",
              "      <td>0.906318</td>\n",
              "      <td>0.262582</td>\n",
              "      <td>0.474771</td>\n",
              "      <td>0.799076</td>\n",
              "    </tr>\n",
              "  </tbody>\n",
              "</table>\n",
              "</div>"
            ],
            "text/plain": [
              "          k1        k2        k3    labels\n",
              "0   0.511983  0.210066  0.325688  0.817552\n",
              "1   0.154684  1.000000  0.000000  0.794457\n",
              "2   0.867102  0.253829  0.740826  0.778291\n",
              "3   0.653595  0.665208  0.213303  0.297921\n",
              "4   0.723312  0.402626  0.694954  0.930716\n",
              "5   0.054466  0.444201  0.082569  0.147806\n",
              "6   0.627451  0.010941  0.151376  0.859122\n",
              "7   0.000000  0.266958  0.144495  0.833718\n",
              "8   0.862745  0.260394  0.747706  0.995381\n",
              "9   0.729847  0.851204  0.151376  0.526559\n",
              "10  0.442266  0.078775  0.621560  0.101617\n",
              "11  0.224401  0.827133  0.133028  1.000000\n",
              "12  0.888889  0.420131  0.217890  0.644342\n",
              "13  0.631808  0.490153  0.763761  0.145497\n",
              "14  0.307190  0.676149  1.000000  0.635104\n",
              "15  0.941176  0.000000  0.167431  0.390300\n",
              "16  0.943355  0.369803  0.479358  0.688222\n",
              "17  0.165577  0.956236  0.961009  0.000000\n",
              "18  1.000000  0.599562  0.596330  0.295612\n",
              "19  0.906318  0.262582  0.474771  0.799076"
            ]
          },
          "metadata": {
            "tags": []
          },
          "execution_count": 18
        }
      ]
    },
    {
      "cell_type": "code",
      "metadata": {
        "id": "xXtbMaJPt0JO",
        "colab_type": "code",
        "outputId": "1695e29e-9e72-45ef-cb38-77304a6c150e",
        "colab": {
          "base_uri": "https://localhost:8080/",
          "height": 644
        }
      },
      "source": [
        "X = df[['k1', 'k2', 'k3']]\n",
        "y = df['labels']\n",
        "X"
      ],
      "execution_count": 0,
      "outputs": [
        {
          "output_type": "execute_result",
          "data": {
            "text/html": [
              "<div>\n",
              "<style scoped>\n",
              "    .dataframe tbody tr th:only-of-type {\n",
              "        vertical-align: middle;\n",
              "    }\n",
              "\n",
              "    .dataframe tbody tr th {\n",
              "        vertical-align: top;\n",
              "    }\n",
              "\n",
              "    .dataframe thead th {\n",
              "        text-align: right;\n",
              "    }\n",
              "</style>\n",
              "<table border=\"1\" class=\"dataframe\">\n",
              "  <thead>\n",
              "    <tr style=\"text-align: right;\">\n",
              "      <th></th>\n",
              "      <th>k1</th>\n",
              "      <th>k2</th>\n",
              "      <th>k3</th>\n",
              "    </tr>\n",
              "  </thead>\n",
              "  <tbody>\n",
              "    <tr>\n",
              "      <th>0</th>\n",
              "      <td>0.511983</td>\n",
              "      <td>0.210066</td>\n",
              "      <td>0.325688</td>\n",
              "    </tr>\n",
              "    <tr>\n",
              "      <th>1</th>\n",
              "      <td>0.154684</td>\n",
              "      <td>1.000000</td>\n",
              "      <td>0.000000</td>\n",
              "    </tr>\n",
              "    <tr>\n",
              "      <th>2</th>\n",
              "      <td>0.867102</td>\n",
              "      <td>0.253829</td>\n",
              "      <td>0.740826</td>\n",
              "    </tr>\n",
              "    <tr>\n",
              "      <th>3</th>\n",
              "      <td>0.653595</td>\n",
              "      <td>0.665208</td>\n",
              "      <td>0.213303</td>\n",
              "    </tr>\n",
              "    <tr>\n",
              "      <th>4</th>\n",
              "      <td>0.723312</td>\n",
              "      <td>0.402626</td>\n",
              "      <td>0.694954</td>\n",
              "    </tr>\n",
              "    <tr>\n",
              "      <th>5</th>\n",
              "      <td>0.054466</td>\n",
              "      <td>0.444201</td>\n",
              "      <td>0.082569</td>\n",
              "    </tr>\n",
              "    <tr>\n",
              "      <th>6</th>\n",
              "      <td>0.627451</td>\n",
              "      <td>0.010941</td>\n",
              "      <td>0.151376</td>\n",
              "    </tr>\n",
              "    <tr>\n",
              "      <th>7</th>\n",
              "      <td>0.000000</td>\n",
              "      <td>0.266958</td>\n",
              "      <td>0.144495</td>\n",
              "    </tr>\n",
              "    <tr>\n",
              "      <th>8</th>\n",
              "      <td>0.862745</td>\n",
              "      <td>0.260394</td>\n",
              "      <td>0.747706</td>\n",
              "    </tr>\n",
              "    <tr>\n",
              "      <th>9</th>\n",
              "      <td>0.729847</td>\n",
              "      <td>0.851204</td>\n",
              "      <td>0.151376</td>\n",
              "    </tr>\n",
              "    <tr>\n",
              "      <th>10</th>\n",
              "      <td>0.442266</td>\n",
              "      <td>0.078775</td>\n",
              "      <td>0.621560</td>\n",
              "    </tr>\n",
              "    <tr>\n",
              "      <th>11</th>\n",
              "      <td>0.224401</td>\n",
              "      <td>0.827133</td>\n",
              "      <td>0.133028</td>\n",
              "    </tr>\n",
              "    <tr>\n",
              "      <th>12</th>\n",
              "      <td>0.888889</td>\n",
              "      <td>0.420131</td>\n",
              "      <td>0.217890</td>\n",
              "    </tr>\n",
              "    <tr>\n",
              "      <th>13</th>\n",
              "      <td>0.631808</td>\n",
              "      <td>0.490153</td>\n",
              "      <td>0.763761</td>\n",
              "    </tr>\n",
              "    <tr>\n",
              "      <th>14</th>\n",
              "      <td>0.307190</td>\n",
              "      <td>0.676149</td>\n",
              "      <td>1.000000</td>\n",
              "    </tr>\n",
              "    <tr>\n",
              "      <th>15</th>\n",
              "      <td>0.941176</td>\n",
              "      <td>0.000000</td>\n",
              "      <td>0.167431</td>\n",
              "    </tr>\n",
              "    <tr>\n",
              "      <th>16</th>\n",
              "      <td>0.943355</td>\n",
              "      <td>0.369803</td>\n",
              "      <td>0.479358</td>\n",
              "    </tr>\n",
              "    <tr>\n",
              "      <th>17</th>\n",
              "      <td>0.165577</td>\n",
              "      <td>0.956236</td>\n",
              "      <td>0.961009</td>\n",
              "    </tr>\n",
              "    <tr>\n",
              "      <th>18</th>\n",
              "      <td>1.000000</td>\n",
              "      <td>0.599562</td>\n",
              "      <td>0.596330</td>\n",
              "    </tr>\n",
              "    <tr>\n",
              "      <th>19</th>\n",
              "      <td>0.906318</td>\n",
              "      <td>0.262582</td>\n",
              "      <td>0.474771</td>\n",
              "    </tr>\n",
              "  </tbody>\n",
              "</table>\n",
              "</div>"
            ],
            "text/plain": [
              "          k1        k2        k3\n",
              "0   0.511983  0.210066  0.325688\n",
              "1   0.154684  1.000000  0.000000\n",
              "2   0.867102  0.253829  0.740826\n",
              "3   0.653595  0.665208  0.213303\n",
              "4   0.723312  0.402626  0.694954\n",
              "5   0.054466  0.444201  0.082569\n",
              "6   0.627451  0.010941  0.151376\n",
              "7   0.000000  0.266958  0.144495\n",
              "8   0.862745  0.260394  0.747706\n",
              "9   0.729847  0.851204  0.151376\n",
              "10  0.442266  0.078775  0.621560\n",
              "11  0.224401  0.827133  0.133028\n",
              "12  0.888889  0.420131  0.217890\n",
              "13  0.631808  0.490153  0.763761\n",
              "14  0.307190  0.676149  1.000000\n",
              "15  0.941176  0.000000  0.167431\n",
              "16  0.943355  0.369803  0.479358\n",
              "17  0.165577  0.956236  0.961009\n",
              "18  1.000000  0.599562  0.596330\n",
              "19  0.906318  0.262582  0.474771"
            ]
          },
          "metadata": {
            "tags": []
          },
          "execution_count": 19
        }
      ]
    },
    {
      "cell_type": "code",
      "metadata": {
        "id": "GMt-fKJmt6GS",
        "colab_type": "code",
        "outputId": "6c487d9b-e7ab-4a37-f6c9-151831957872",
        "colab": {
          "base_uri": "https://localhost:8080/",
          "height": 368
        }
      },
      "source": [
        "y"
      ],
      "execution_count": 0,
      "outputs": [
        {
          "output_type": "execute_result",
          "data": {
            "text/plain": [
              "0     0.817552\n",
              "1     0.794457\n",
              "2     0.778291\n",
              "3     0.297921\n",
              "4     0.930716\n",
              "5     0.147806\n",
              "6     0.859122\n",
              "7     0.833718\n",
              "8     0.995381\n",
              "9     0.526559\n",
              "10    0.101617\n",
              "11    1.000000\n",
              "12    0.644342\n",
              "13    0.145497\n",
              "14    0.635104\n",
              "15    0.390300\n",
              "16    0.688222\n",
              "17    0.000000\n",
              "18    0.295612\n",
              "19    0.799076\n",
              "Name: labels, dtype: float64"
            ]
          },
          "metadata": {
            "tags": []
          },
          "execution_count": 21
        }
      ]
    },
    {
      "cell_type": "code",
      "metadata": {
        "id": "vAzUumrBuB4r",
        "colab_type": "code",
        "outputId": "a3049f70-ce50-4142-b9a5-e6c234126f62",
        "colab": {
          "base_uri": "https://localhost:8080/",
          "height": 33
        }
      },
      "source": [
        "from sklearn.model_selection import train_test_split\n",
        "X_train, X_test, y_train, y_test = train_test_split(X, y, test_size=0.30, random_state=42)\n",
        "X_train.shape"
      ],
      "execution_count": 0,
      "outputs": [
        {
          "output_type": "execute_result",
          "data": {
            "text/plain": [
              "(14, 3)"
            ]
          },
          "metadata": {
            "tags": []
          },
          "execution_count": 22
        }
      ]
    },
    {
      "cell_type": "markdown",
      "metadata": {
        "id": "bh1HdAHRSfiM",
        "colab_type": "text"
      },
      "source": [
        "KNN FOR IRIS EXAMPLE"
      ]
    },
    {
      "cell_type": "code",
      "metadata": {
        "id": "34kJ1u4YSjrm",
        "colab_type": "code",
        "outputId": "960ff8f1-e7cd-4eae-d045-486ae3a7013e",
        "colab": {
          "base_uri": "https://localhost:8080/",
          "height": 1000
        }
      },
      "source": [
        "from sklearn.datasets import load_iris\n",
        "iris=load_iris()\n",
        "type(iris)\n",
        "iris.data"
      ],
      "execution_count": 0,
      "outputs": [
        {
          "output_type": "execute_result",
          "data": {
            "text/plain": [
              "array([[5.1, 3.5, 1.4, 0.2],\n",
              "       [4.9, 3. , 1.4, 0.2],\n",
              "       [4.7, 3.2, 1.3, 0.2],\n",
              "       [4.6, 3.1, 1.5, 0.2],\n",
              "       [5. , 3.6, 1.4, 0.2],\n",
              "       [5.4, 3.9, 1.7, 0.4],\n",
              "       [4.6, 3.4, 1.4, 0.3],\n",
              "       [5. , 3.4, 1.5, 0.2],\n",
              "       [4.4, 2.9, 1.4, 0.2],\n",
              "       [4.9, 3.1, 1.5, 0.1],\n",
              "       [5.4, 3.7, 1.5, 0.2],\n",
              "       [4.8, 3.4, 1.6, 0.2],\n",
              "       [4.8, 3. , 1.4, 0.1],\n",
              "       [4.3, 3. , 1.1, 0.1],\n",
              "       [5.8, 4. , 1.2, 0.2],\n",
              "       [5.7, 4.4, 1.5, 0.4],\n",
              "       [5.4, 3.9, 1.3, 0.4],\n",
              "       [5.1, 3.5, 1.4, 0.3],\n",
              "       [5.7, 3.8, 1.7, 0.3],\n",
              "       [5.1, 3.8, 1.5, 0.3],\n",
              "       [5.4, 3.4, 1.7, 0.2],\n",
              "       [5.1, 3.7, 1.5, 0.4],\n",
              "       [4.6, 3.6, 1. , 0.2],\n",
              "       [5.1, 3.3, 1.7, 0.5],\n",
              "       [4.8, 3.4, 1.9, 0.2],\n",
              "       [5. , 3. , 1.6, 0.2],\n",
              "       [5. , 3.4, 1.6, 0.4],\n",
              "       [5.2, 3.5, 1.5, 0.2],\n",
              "       [5.2, 3.4, 1.4, 0.2],\n",
              "       [4.7, 3.2, 1.6, 0.2],\n",
              "       [4.8, 3.1, 1.6, 0.2],\n",
              "       [5.4, 3.4, 1.5, 0.4],\n",
              "       [5.2, 4.1, 1.5, 0.1],\n",
              "       [5.5, 4.2, 1.4, 0.2],\n",
              "       [4.9, 3.1, 1.5, 0.2],\n",
              "       [5. , 3.2, 1.2, 0.2],\n",
              "       [5.5, 3.5, 1.3, 0.2],\n",
              "       [4.9, 3.6, 1.4, 0.1],\n",
              "       [4.4, 3. , 1.3, 0.2],\n",
              "       [5.1, 3.4, 1.5, 0.2],\n",
              "       [5. , 3.5, 1.3, 0.3],\n",
              "       [4.5, 2.3, 1.3, 0.3],\n",
              "       [4.4, 3.2, 1.3, 0.2],\n",
              "       [5. , 3.5, 1.6, 0.6],\n",
              "       [5.1, 3.8, 1.9, 0.4],\n",
              "       [4.8, 3. , 1.4, 0.3],\n",
              "       [5.1, 3.8, 1.6, 0.2],\n",
              "       [4.6, 3.2, 1.4, 0.2],\n",
              "       [5.3, 3.7, 1.5, 0.2],\n",
              "       [5. , 3.3, 1.4, 0.2],\n",
              "       [7. , 3.2, 4.7, 1.4],\n",
              "       [6.4, 3.2, 4.5, 1.5],\n",
              "       [6.9, 3.1, 4.9, 1.5],\n",
              "       [5.5, 2.3, 4. , 1.3],\n",
              "       [6.5, 2.8, 4.6, 1.5],\n",
              "       [5.7, 2.8, 4.5, 1.3],\n",
              "       [6.3, 3.3, 4.7, 1.6],\n",
              "       [4.9, 2.4, 3.3, 1. ],\n",
              "       [6.6, 2.9, 4.6, 1.3],\n",
              "       [5.2, 2.7, 3.9, 1.4],\n",
              "       [5. , 2. , 3.5, 1. ],\n",
              "       [5.9, 3. , 4.2, 1.5],\n",
              "       [6. , 2.2, 4. , 1. ],\n",
              "       [6.1, 2.9, 4.7, 1.4],\n",
              "       [5.6, 2.9, 3.6, 1.3],\n",
              "       [6.7, 3.1, 4.4, 1.4],\n",
              "       [5.6, 3. , 4.5, 1.5],\n",
              "       [5.8, 2.7, 4.1, 1. ],\n",
              "       [6.2, 2.2, 4.5, 1.5],\n",
              "       [5.6, 2.5, 3.9, 1.1],\n",
              "       [5.9, 3.2, 4.8, 1.8],\n",
              "       [6.1, 2.8, 4. , 1.3],\n",
              "       [6.3, 2.5, 4.9, 1.5],\n",
              "       [6.1, 2.8, 4.7, 1.2],\n",
              "       [6.4, 2.9, 4.3, 1.3],\n",
              "       [6.6, 3. , 4.4, 1.4],\n",
              "       [6.8, 2.8, 4.8, 1.4],\n",
              "       [6.7, 3. , 5. , 1.7],\n",
              "       [6. , 2.9, 4.5, 1.5],\n",
              "       [5.7, 2.6, 3.5, 1. ],\n",
              "       [5.5, 2.4, 3.8, 1.1],\n",
              "       [5.5, 2.4, 3.7, 1. ],\n",
              "       [5.8, 2.7, 3.9, 1.2],\n",
              "       [6. , 2.7, 5.1, 1.6],\n",
              "       [5.4, 3. , 4.5, 1.5],\n",
              "       [6. , 3.4, 4.5, 1.6],\n",
              "       [6.7, 3.1, 4.7, 1.5],\n",
              "       [6.3, 2.3, 4.4, 1.3],\n",
              "       [5.6, 3. , 4.1, 1.3],\n",
              "       [5.5, 2.5, 4. , 1.3],\n",
              "       [5.5, 2.6, 4.4, 1.2],\n",
              "       [6.1, 3. , 4.6, 1.4],\n",
              "       [5.8, 2.6, 4. , 1.2],\n",
              "       [5. , 2.3, 3.3, 1. ],\n",
              "       [5.6, 2.7, 4.2, 1.3],\n",
              "       [5.7, 3. , 4.2, 1.2],\n",
              "       [5.7, 2.9, 4.2, 1.3],\n",
              "       [6.2, 2.9, 4.3, 1.3],\n",
              "       [5.1, 2.5, 3. , 1.1],\n",
              "       [5.7, 2.8, 4.1, 1.3],\n",
              "       [6.3, 3.3, 6. , 2.5],\n",
              "       [5.8, 2.7, 5.1, 1.9],\n",
              "       [7.1, 3. , 5.9, 2.1],\n",
              "       [6.3, 2.9, 5.6, 1.8],\n",
              "       [6.5, 3. , 5.8, 2.2],\n",
              "       [7.6, 3. , 6.6, 2.1],\n",
              "       [4.9, 2.5, 4.5, 1.7],\n",
              "       [7.3, 2.9, 6.3, 1.8],\n",
              "       [6.7, 2.5, 5.8, 1.8],\n",
              "       [7.2, 3.6, 6.1, 2.5],\n",
              "       [6.5, 3.2, 5.1, 2. ],\n",
              "       [6.4, 2.7, 5.3, 1.9],\n",
              "       [6.8, 3. , 5.5, 2.1],\n",
              "       [5.7, 2.5, 5. , 2. ],\n",
              "       [5.8, 2.8, 5.1, 2.4],\n",
              "       [6.4, 3.2, 5.3, 2.3],\n",
              "       [6.5, 3. , 5.5, 1.8],\n",
              "       [7.7, 3.8, 6.7, 2.2],\n",
              "       [7.7, 2.6, 6.9, 2.3],\n",
              "       [6. , 2.2, 5. , 1.5],\n",
              "       [6.9, 3.2, 5.7, 2.3],\n",
              "       [5.6, 2.8, 4.9, 2. ],\n",
              "       [7.7, 2.8, 6.7, 2. ],\n",
              "       [6.3, 2.7, 4.9, 1.8],\n",
              "       [6.7, 3.3, 5.7, 2.1],\n",
              "       [7.2, 3.2, 6. , 1.8],\n",
              "       [6.2, 2.8, 4.8, 1.8],\n",
              "       [6.1, 3. , 4.9, 1.8],\n",
              "       [6.4, 2.8, 5.6, 2.1],\n",
              "       [7.2, 3. , 5.8, 1.6],\n",
              "       [7.4, 2.8, 6.1, 1.9],\n",
              "       [7.9, 3.8, 6.4, 2. ],\n",
              "       [6.4, 2.8, 5.6, 2.2],\n",
              "       [6.3, 2.8, 5.1, 1.5],\n",
              "       [6.1, 2.6, 5.6, 1.4],\n",
              "       [7.7, 3. , 6.1, 2.3],\n",
              "       [6.3, 3.4, 5.6, 2.4],\n",
              "       [6.4, 3.1, 5.5, 1.8],\n",
              "       [6. , 3. , 4.8, 1.8],\n",
              "       [6.9, 3.1, 5.4, 2.1],\n",
              "       [6.7, 3.1, 5.6, 2.4],\n",
              "       [6.9, 3.1, 5.1, 2.3],\n",
              "       [5.8, 2.7, 5.1, 1.9],\n",
              "       [6.8, 3.2, 5.9, 2.3],\n",
              "       [6.7, 3.3, 5.7, 2.5],\n",
              "       [6.7, 3. , 5.2, 2.3],\n",
              "       [6.3, 2.5, 5. , 1.9],\n",
              "       [6.5, 3. , 5.2, 2. ],\n",
              "       [6.2, 3.4, 5.4, 2.3],\n",
              "       [5.9, 3. , 5.1, 1.8]])"
            ]
          },
          "metadata": {
            "tags": []
          },
          "execution_count": 2
        }
      ]
    },
    {
      "cell_type": "code",
      "metadata": {
        "id": "xNFWrFgcoJfP",
        "colab_type": "code",
        "outputId": "84e90922-00ad-4045-dc25-fdcebd84ac37",
        "colab": {
          "base_uri": "https://localhost:8080/",
          "height": 33
        }
      },
      "source": [
        "print(iris.feature_names)"
      ],
      "execution_count": 0,
      "outputs": [
        {
          "output_type": "stream",
          "text": [
            "['sepal length (cm)', 'sepal width (cm)', 'petal length (cm)', 'petal width (cm)']\n"
          ],
          "name": "stdout"
        }
      ]
    },
    {
      "cell_type": "code",
      "metadata": {
        "id": "HDKmcG0zoWT0",
        "colab_type": "code",
        "outputId": "eb25066b-bea4-43b0-e6cc-489f3d185c85",
        "colab": {
          "base_uri": "https://localhost:8080/",
          "height": 100
        }
      },
      "source": [
        "print(iris.target)"
      ],
      "execution_count": 0,
      "outputs": [
        {
          "output_type": "stream",
          "text": [
            "[0 0 0 0 0 0 0 0 0 0 0 0 0 0 0 0 0 0 0 0 0 0 0 0 0 0 0 0 0 0 0 0 0 0 0 0 0\n",
            " 0 0 0 0 0 0 0 0 0 0 0 0 0 1 1 1 1 1 1 1 1 1 1 1 1 1 1 1 1 1 1 1 1 1 1 1 1\n",
            " 1 1 1 1 1 1 1 1 1 1 1 1 1 1 1 1 1 1 1 1 1 1 1 1 1 1 2 2 2 2 2 2 2 2 2 2 2\n",
            " 2 2 2 2 2 2 2 2 2 2 2 2 2 2 2 2 2 2 2 2 2 2 2 2 2 2 2 2 2 2 2 2 2 2 2 2 2\n",
            " 2 2]\n"
          ],
          "name": "stdout"
        }
      ]
    },
    {
      "cell_type": "code",
      "metadata": {
        "id": "k3nRrE3Zok_y",
        "colab_type": "code",
        "outputId": "00007750-d048-4c02-8ec3-fd973dea34ac",
        "colab": {
          "base_uri": "https://localhost:8080/",
          "height": 33
        }
      },
      "source": [
        "print(iris.target_names)"
      ],
      "execution_count": 0,
      "outputs": [
        {
          "output_type": "stream",
          "text": [
            "['setosa' 'versicolor' 'virginica']\n"
          ],
          "name": "stdout"
        }
      ]
    },
    {
      "cell_type": "code",
      "metadata": {
        "id": "nOC_2Jd3orKp",
        "colab_type": "code",
        "outputId": "e37eb1d3-1314-4eb5-c4b3-ab8778e43487",
        "colab": {
          "base_uri": "https://localhost:8080/",
          "height": 50
        }
      },
      "source": [
        "print(type(iris.data))\n",
        "print(type(iris.target))"
      ],
      "execution_count": 0,
      "outputs": [
        {
          "output_type": "stream",
          "text": [
            "<class 'numpy.ndarray'>\n",
            "<class 'numpy.ndarray'>\n"
          ],
          "name": "stdout"
        }
      ]
    },
    {
      "cell_type": "code",
      "metadata": {
        "id": "2QEDsb2bo6F-",
        "colab_type": "code",
        "outputId": "f5b78f70-4f86-4fd4-b770-65f1dd05d56f",
        "colab": {
          "base_uri": "https://localhost:8080/",
          "height": 33
        }
      },
      "source": [
        "print(iris.data.shape)"
      ],
      "execution_count": 0,
      "outputs": [
        {
          "output_type": "stream",
          "text": [
            "(150, 4)\n"
          ],
          "name": "stdout"
        }
      ]
    },
    {
      "cell_type": "code",
      "metadata": {
        "id": "j9FHfmqazy1X",
        "colab_type": "code",
        "colab": {}
      },
      "source": [
        "X=iris.data\n",
        "y=iris.target"
      ],
      "execution_count": 0,
      "outputs": []
    },
    {
      "cell_type": "code",
      "metadata": {
        "id": "XcvvwLm-ztFh",
        "colab_type": "code",
        "outputId": "38da6fcf-77ce-40d4-d728-f3e29c46117d",
        "colab": {
          "base_uri": "https://localhost:8080/",
          "height": 50
        }
      },
      "source": [
        "print(X.shape)\n",
        "print(y.shape)"
      ],
      "execution_count": 0,
      "outputs": [
        {
          "output_type": "stream",
          "text": [
            "(150, 4)\n",
            "(150,)\n"
          ],
          "name": "stdout"
        }
      ]
    },
    {
      "cell_type": "code",
      "metadata": {
        "id": "ogMHtqsCpvD_",
        "colab_type": "code",
        "outputId": "662caaf2-5bd8-4797-8394-dd88aa8ecb79",
        "colab": {
          "base_uri": "https://localhost:8080/",
          "height": 50
        }
      },
      "source": [
        "from sklearn.model_selection import train_test_split\n",
        "X_train,X_test,y_train,y_test=train_test_split(X,y,test_size=0.2,random_state=4)\n",
        "print(X_train.shape)\n",
        "print(X_test.shape)\n",
        "       "
      ],
      "execution_count": 0,
      "outputs": [
        {
          "output_type": "stream",
          "text": [
            "(120, 4)\n",
            "(30, 4)\n"
          ],
          "name": "stdout"
        }
      ]
    },
    {
      "cell_type": "code",
      "metadata": {
        "id": "x0mtFi36oyE8",
        "colab_type": "code",
        "outputId": "d0296091-4995-4c91-af78-b590cb0fc050",
        "colab": {
          "base_uri": "https://localhost:8080/",
          "height": 50
        }
      },
      "source": [
        "print(y_train.shape)\n",
        "print(y_test.shape)\n",
        "       "
      ],
      "execution_count": 0,
      "outputs": [
        {
          "output_type": "stream",
          "text": [
            "(120,)\n",
            "(30,)\n"
          ],
          "name": "stdout"
        }
      ]
    },
    {
      "cell_type": "code",
      "metadata": {
        "id": "3xvZZOE72-hS",
        "colab_type": "code",
        "colab": {
          "base_uri": "https://localhost:8080/",
          "height": 435
        },
        "outputId": "6ad7cdc0-850a-4856-c9a4-a54b67314d8c"
      },
      "source": [
        "from sklearn.neighbors import KNeighborsClassifier\n",
        "\n",
        "#import metrics model to check the accuracy \n",
        "from sklearn import metrics\n",
        "#Try running from k=1 through 25 and record testing accuracy\n",
        "k_range = range(1,26)\n",
        "scores = {}\n",
        "scores_list = []\n",
        "for k in k_range:\n",
        "        knn = KNeighborsClassifier(n_neighbors=k)\n",
        "        knn.fit(X_train,y_train)\n",
        "        y_pred=knn.predict(X_test)\n",
        "        scores[k] = metrics.accuracy_score(y_test,y_pred)\n",
        "        scores_list.append(metrics.accuracy_score(y_test,y_pred))\n",
        "scores"
      ],
      "execution_count": 39,
      "outputs": [
        {
          "output_type": "execute_result",
          "data": {
            "text/plain": [
              "{1: 0.9333333333333333,\n",
              " 2: 0.9333333333333333,\n",
              " 3: 0.9666666666666667,\n",
              " 4: 0.9666666666666667,\n",
              " 5: 0.9666666666666667,\n",
              " 6: 0.9666666666666667,\n",
              " 7: 0.9666666666666667,\n",
              " 8: 0.9666666666666667,\n",
              " 9: 0.9666666666666667,\n",
              " 10: 0.9666666666666667,\n",
              " 11: 0.9666666666666667,\n",
              " 12: 0.9666666666666667,\n",
              " 13: 0.9666666666666667,\n",
              " 14: 0.9666666666666667,\n",
              " 15: 0.9666666666666667,\n",
              " 16: 0.9666666666666667,\n",
              " 17: 0.9666666666666667,\n",
              " 18: 0.9666666666666667,\n",
              " 19: 0.9666666666666667,\n",
              " 20: 0.9333333333333333,\n",
              " 21: 0.9666666666666667,\n",
              " 22: 0.9333333333333333,\n",
              " 23: 0.9666666666666667,\n",
              " 24: 0.9666666666666667,\n",
              " 25: 0.9666666666666667}"
            ]
          },
          "metadata": {
            "tags": []
          },
          "execution_count": 39
        }
      ]
    },
    {
      "cell_type": "code",
      "metadata": {
        "id": "P9txMRAP0a6g",
        "colab_type": "code",
        "outputId": "ebc3245a-e020-4960-f49a-c484e891e4c8",
        "colab": {
          "base_uri": "https://localhost:8080/",
          "height": 300
        }
      },
      "source": [
        "        \n",
        "%matplotlib inline\n",
        "import matplotlib.pyplot as plt\n",
        "plt.plot(k_range,scores_list)\n",
        "plt.xlabel('Value of K for KNN')\n",
        "plt.ylabel('Testing Accuracy')\n",
        "\n"
      ],
      "execution_count": 51,
      "outputs": [
        {
          "output_type": "execute_result",
          "data": {
            "text/plain": [
              "Text(0, 0.5, 'Testing Accuracy')"
            ]
          },
          "metadata": {
            "tags": []
          },
          "execution_count": 51
        },
        {
          "output_type": "display_data",
          "data": {
            "image/png": "[encoded data removed]",
            "text/plain": [
              "<Figure size 432x288 with 1 Axes>"
            ]
          },
          "metadata": {
            "tags": []
          }
        }
      ]
    },
    {
      "cell_type": "code",
      "metadata": {
        "id": "fvb6_yyj0WFc",
        "colab_type": "code",
        "colab": {
          "base_uri": "https://localhost:8080/",
          "height": 67
        },
        "outputId": "3ef98776-5dea-4753-afb5-459faf1a89f4"
      },
      "source": [
        "knn.predict"
      ],
      "execution_count": 41,
      "outputs": [
        {
          "output_type": "execute_result",
          "data": {
            "text/plain": [
              "<bound method KNeighborsClassifier.predict of KNeighborsClassifier(algorithm='auto', leaf_size=30, metric='minkowski',\n",
              "                     metric_params=None, n_jobs=None, n_neighbors=25, p=2,\n",
              "                     weights='uniform')>"
            ]
          },
          "metadata": {
            "tags": []
          },
          "execution_count": 41
        }
      ]
    }
  ]
}